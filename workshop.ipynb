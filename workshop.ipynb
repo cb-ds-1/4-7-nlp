{
 "cells": [
  {
   "cell_type": "code",
   "execution_count": 43,
   "metadata": {},
   "outputs": [],
   "source": [
    "# Bruno Ugolini\n",
    "import numpy as np\n",
    "import pandas as pd\n",
    "import matplotlib.pyplot as plt\n",
    "import seaborn as sns\n",
    "import scipy as sc\n",
    "import requests\n",
    "import json\n",
    "import sklearn\n",
    "from sklearn.decomposition import PCA\n",
    "from sklearn.linear_model import SGDRegressor\n",
    "from sklearn.metrics import r2_score\n",
    "import statsmodels.api as sm\n",
    "import gensim\n",
    "import gensim.downloader as model_api"
   ]
  },
  {
   "cell_type": "markdown",
   "metadata": {},
   "source": [
    "# 1. App Review NLP work\n",
    "\n",
    "This question uses the Apple App review dataset that you generated in the \"Pulling online data\" workshop. Your dataset should have at least 3-5 different applications, with data from a few countries.\n",
    "\n",
    "**1.1** Using the bag-of-words or TF-IDF vector model (from SKLearn), cluster the reviews into 5 clusters. Measure the accuracy of the cluster overlap against the real review scores.\n",
    "\n",
    "**1.2** Now use a sentence embedding using on of the `gensim` pre-trained word embedding models to achieve the same in clustering. Get the best classification accuracy score you can on the 5-star review scale targer using all unsupervised methods you want.\n",
    "\n",
    "**1.3** Using any method you want (pre-trained models, dimensionality reduction, feature engineering, etc.) make the best **regression** model you can to predict the 5 star rating. Rate the accuracy in regression terms (mean squared error) and in classification terms (accuracy score, etc.)\n",
    "\n",
    "**1.4** Do the same as in 1.3, but use a classification model. Are classification models better or worse to predict a 5-point rating scale? Explain in a few paragraphs and justify with metrics.\n"
   ]
  },
  {
   "cell_type": "markdown",
   "metadata": {},
   "source": [
    "# Question 1.1 Using the bag-of-words or TF-IDF vector model (from SKLearn), cluster the reviews into 5 clusters. Measure the accuracy of the cluster overlap against the real review scores."
   ]
  },
  {
   "cell_type": "markdown",
   "metadata": {},
   "source": [
    "### First, bring in the code from the last assignment."
   ]
  },
  {
   "cell_type": "code",
   "execution_count": 2,
   "metadata": {},
   "outputs": [
    {
     "name": "stdout",
     "output_type": "stream",
     "text": [
      "There were 500 reviews for Candy Crush in us.\n",
      "There were 500 reviews for Candy Crush in ca.\n",
      "There were 500 reviews for Candy Crush in gb.\n",
      "There were 500 reviews for Candy Crush in au.\n",
      "There were 500 reviews for Candy Crush in nz.\n",
      "There were 500 reviews for Tinder in us.\n",
      "There were 500 reviews for Tinder in ca.\n",
      "There were 500 reviews for Tinder in gb.\n",
      "There were 500 reviews for Tinder in au.\n",
      "There were 500 reviews for Tinder in nz.\n",
      "There were 500 reviews for Facebook in us.\n",
      "There were 500 reviews for Facebook in ca.\n",
      "There were 500 reviews for Facebook in gb.\n",
      "There were 500 reviews for Facebook in au.\n",
      "There were 500 reviews for Facebook in nz.\n",
      "There were 500 reviews for Twitter in us.\n",
      "There were 500 reviews for Twitter in ca.\n",
      "There were 500 reviews for Twitter in gb.\n",
      "There were 500 reviews for Twitter in au.\n",
      "There were 500 reviews for Twitter in nz.\n"
     ]
    }
   ],
   "source": [
    "# App names and id's\n",
    "apps = {'Candy Crush': 553834731, 'Tinder': 547702041, 'Facebook': 284882215, 'Twitter': 333903271}\n",
    "en_cc = ['us', 'ca', 'gb', 'au', 'nz']\n",
    "col_names = ['im:version', 'im:rating', 'id', 'title', 'content', 'im:voteSum', 'im:voteCount']\n",
    "col2_names = {'author': 'name', 'im:contentType': 'attributes'}\n",
    "col3_names = {'link': 'attributes'}\n",
    "df_master = pd.DataFrame()\n",
    "for app, idx in apps.items():\n",
    "    for cc in en_cc:\n",
    "        cnt = 0 # number of reviews counter\n",
    "        for i in range(1,11): # api limits to 10 pages\n",
    "            df = pd.DataFrame()\n",
    "            r = requests.get(f\"https://itunes.apple.com/{cc}/rss/customerreviews/id={idx}/page={i}/sortby=mostrecent/json\")\n",
    "            if r.status_code == 200:\n",
    "                d = json.loads(r.content)\n",
    "                df = pd.DataFrame.from_dict(d['feed']['entry'])\n",
    "                # do columns where 'label' is accessible\n",
    "                for col in col_names:\n",
    "                    df[col] = df[col].apply(lambda x: x['label'])\n",
    "                # do columns where 'label' is one layer deeper\n",
    "                for col, attr in col2_names.items():\n",
    "                    df[col] = df[col].apply(lambda x: x[attr]['label'])\n",
    "                # do columns where 'href' is the desired name\n",
    "                for col, attr in col3_names.items():\n",
    "                    df[col] = df[col].apply(lambda x: x[attr]['href'])\n",
    "                # add country and app title\n",
    "                df['title'] = app\n",
    "                df['country'] = cc\n",
    "                cnt += len(df)\n",
    "                df_master = pd.concat([df_master,df],axis=0,ignore_index=True)\n",
    "        print(f\"There were {cnt} reviews for {app} in {cc}.\")"
   ]
  },
  {
   "cell_type": "markdown",
   "metadata": {},
   "source": [
    "### Bag of words"
   ]
  },
  {
   "cell_type": "code",
   "execution_count": 3,
   "metadata": {},
   "outputs": [],
   "source": [
    "from sklearn.feature_extraction.text import CountVectorizer\n",
    "vectorizer = CountVectorizer()"
   ]
  },
  {
   "cell_type": "code",
   "execution_count": 5,
   "metadata": {},
   "outputs": [
    {
     "data": {
      "text/html": [
       "<div>\n",
       "<style scoped>\n",
       "    .dataframe tbody tr th:only-of-type {\n",
       "        vertical-align: middle;\n",
       "    }\n",
       "\n",
       "    .dataframe tbody tr th {\n",
       "        vertical-align: top;\n",
       "    }\n",
       "\n",
       "    .dataframe thead th {\n",
       "        text-align: right;\n",
       "    }\n",
       "</style>\n",
       "<table border=\"1\" class=\"dataframe\">\n",
       "  <thead>\n",
       "    <tr style=\"text-align: right;\">\n",
       "      <th></th>\n",
       "      <th>00</th>\n",
       "      <th>000</th>\n",
       "      <th>000km</th>\n",
       "      <th>01</th>\n",
       "      <th>02</th>\n",
       "      <th>06</th>\n",
       "      <th>07</th>\n",
       "      <th>0932980601</th>\n",
       "      <th>10</th>\n",
       "      <th>100</th>\n",
       "      <th>...</th>\n",
       "      <th>틴저</th>\n",
       "      <th>하고</th>\n",
       "      <th>학생입니따</th>\n",
       "      <th>한번도</th>\n",
       "      <th>할게요</th>\n",
       "      <th>항상</th>\n",
       "      <th>해주었습니다</th>\n",
       "      <th>했지만</th>\n",
       "      <th>힘들어할때</th>\n",
       "      <th>𝘩𝘢𝘷𝘦</th>\n",
       "    </tr>\n",
       "  </thead>\n",
       "  <tbody>\n",
       "    <tr>\n",
       "      <th>4041</th>\n",
       "      <td>0</td>\n",
       "      <td>0</td>\n",
       "      <td>0</td>\n",
       "      <td>0</td>\n",
       "      <td>0</td>\n",
       "      <td>0</td>\n",
       "      <td>0</td>\n",
       "      <td>0</td>\n",
       "      <td>0</td>\n",
       "      <td>0</td>\n",
       "      <td>...</td>\n",
       "      <td>0</td>\n",
       "      <td>0</td>\n",
       "      <td>0</td>\n",
       "      <td>0</td>\n",
       "      <td>0</td>\n",
       "      <td>0</td>\n",
       "      <td>0</td>\n",
       "      <td>0</td>\n",
       "      <td>0</td>\n",
       "      <td>0</td>\n",
       "    </tr>\n",
       "    <tr>\n",
       "      <th>1405</th>\n",
       "      <td>0</td>\n",
       "      <td>0</td>\n",
       "      <td>0</td>\n",
       "      <td>0</td>\n",
       "      <td>0</td>\n",
       "      <td>0</td>\n",
       "      <td>0</td>\n",
       "      <td>0</td>\n",
       "      <td>0</td>\n",
       "      <td>0</td>\n",
       "      <td>...</td>\n",
       "      <td>0</td>\n",
       "      <td>0</td>\n",
       "      <td>0</td>\n",
       "      <td>0</td>\n",
       "      <td>0</td>\n",
       "      <td>0</td>\n",
       "      <td>0</td>\n",
       "      <td>0</td>\n",
       "      <td>0</td>\n",
       "      <td>0</td>\n",
       "    </tr>\n",
       "    <tr>\n",
       "      <th>8303</th>\n",
       "      <td>0</td>\n",
       "      <td>0</td>\n",
       "      <td>0</td>\n",
       "      <td>0</td>\n",
       "      <td>0</td>\n",
       "      <td>0</td>\n",
       "      <td>0</td>\n",
       "      <td>0</td>\n",
       "      <td>0</td>\n",
       "      <td>0</td>\n",
       "      <td>...</td>\n",
       "      <td>0</td>\n",
       "      <td>0</td>\n",
       "      <td>0</td>\n",
       "      <td>0</td>\n",
       "      <td>0</td>\n",
       "      <td>0</td>\n",
       "      <td>0</td>\n",
       "      <td>0</td>\n",
       "      <td>0</td>\n",
       "      <td>0</td>\n",
       "    </tr>\n",
       "    <tr>\n",
       "      <th>5233</th>\n",
       "      <td>0</td>\n",
       "      <td>0</td>\n",
       "      <td>0</td>\n",
       "      <td>0</td>\n",
       "      <td>0</td>\n",
       "      <td>0</td>\n",
       "      <td>0</td>\n",
       "      <td>0</td>\n",
       "      <td>0</td>\n",
       "      <td>0</td>\n",
       "      <td>...</td>\n",
       "      <td>0</td>\n",
       "      <td>0</td>\n",
       "      <td>0</td>\n",
       "      <td>0</td>\n",
       "      <td>0</td>\n",
       "      <td>0</td>\n",
       "      <td>0</td>\n",
       "      <td>0</td>\n",
       "      <td>0</td>\n",
       "      <td>0</td>\n",
       "    </tr>\n",
       "    <tr>\n",
       "      <th>4050</th>\n",
       "      <td>0</td>\n",
       "      <td>0</td>\n",
       "      <td>0</td>\n",
       "      <td>0</td>\n",
       "      <td>0</td>\n",
       "      <td>0</td>\n",
       "      <td>0</td>\n",
       "      <td>0</td>\n",
       "      <td>0</td>\n",
       "      <td>1</td>\n",
       "      <td>...</td>\n",
       "      <td>0</td>\n",
       "      <td>0</td>\n",
       "      <td>0</td>\n",
       "      <td>0</td>\n",
       "      <td>0</td>\n",
       "      <td>0</td>\n",
       "      <td>0</td>\n",
       "      <td>0</td>\n",
       "      <td>0</td>\n",
       "      <td>0</td>\n",
       "    </tr>\n",
       "    <tr>\n",
       "      <th>3982</th>\n",
       "      <td>0</td>\n",
       "      <td>0</td>\n",
       "      <td>0</td>\n",
       "      <td>0</td>\n",
       "      <td>0</td>\n",
       "      <td>0</td>\n",
       "      <td>0</td>\n",
       "      <td>0</td>\n",
       "      <td>0</td>\n",
       "      <td>0</td>\n",
       "      <td>...</td>\n",
       "      <td>0</td>\n",
       "      <td>0</td>\n",
       "      <td>0</td>\n",
       "      <td>0</td>\n",
       "      <td>0</td>\n",
       "      <td>0</td>\n",
       "      <td>0</td>\n",
       "      <td>0</td>\n",
       "      <td>0</td>\n",
       "      <td>0</td>\n",
       "    </tr>\n",
       "    <tr>\n",
       "      <th>9998</th>\n",
       "      <td>0</td>\n",
       "      <td>0</td>\n",
       "      <td>0</td>\n",
       "      <td>0</td>\n",
       "      <td>0</td>\n",
       "      <td>0</td>\n",
       "      <td>0</td>\n",
       "      <td>0</td>\n",
       "      <td>0</td>\n",
       "      <td>0</td>\n",
       "      <td>...</td>\n",
       "      <td>0</td>\n",
       "      <td>0</td>\n",
       "      <td>0</td>\n",
       "      <td>0</td>\n",
       "      <td>0</td>\n",
       "      <td>0</td>\n",
       "      <td>0</td>\n",
       "      <td>0</td>\n",
       "      <td>0</td>\n",
       "      <td>0</td>\n",
       "    </tr>\n",
       "    <tr>\n",
       "      <th>897</th>\n",
       "      <td>0</td>\n",
       "      <td>0</td>\n",
       "      <td>0</td>\n",
       "      <td>0</td>\n",
       "      <td>0</td>\n",
       "      <td>0</td>\n",
       "      <td>0</td>\n",
       "      <td>0</td>\n",
       "      <td>0</td>\n",
       "      <td>0</td>\n",
       "      <td>...</td>\n",
       "      <td>0</td>\n",
       "      <td>0</td>\n",
       "      <td>0</td>\n",
       "      <td>0</td>\n",
       "      <td>0</td>\n",
       "      <td>0</td>\n",
       "      <td>0</td>\n",
       "      <td>0</td>\n",
       "      <td>0</td>\n",
       "      <td>0</td>\n",
       "    </tr>\n",
       "  </tbody>\n",
       "</table>\n",
       "<p>8 rows × 12919 columns</p>\n",
       "</div>"
      ],
      "text/plain": [
       "      00  000  000km  01  02  06  07  0932980601  10  100  ...  틴저  하고  학생입니따  \\\n",
       "4041   0    0      0   0   0   0   0           0   0    0  ...   0   0      0   \n",
       "1405   0    0      0   0   0   0   0           0   0    0  ...   0   0      0   \n",
       "8303   0    0      0   0   0   0   0           0   0    0  ...   0   0      0   \n",
       "5233   0    0      0   0   0   0   0           0   0    0  ...   0   0      0   \n",
       "4050   0    0      0   0   0   0   0           0   0    1  ...   0   0      0   \n",
       "3982   0    0      0   0   0   0   0           0   0    0  ...   0   0      0   \n",
       "9998   0    0      0   0   0   0   0           0   0    0  ...   0   0      0   \n",
       "897    0    0      0   0   0   0   0           0   0    0  ...   0   0      0   \n",
       "\n",
       "      한번도  할게요  항상  해주었습니다  했지만  힘들어할때  𝘩𝘢𝘷𝘦  \n",
       "4041    0    0   0       0    0      0     0  \n",
       "1405    0    0   0       0    0      0     0  \n",
       "8303    0    0   0       0    0      0     0  \n",
       "5233    0    0   0       0    0      0     0  \n",
       "4050    0    0   0       0    0      0     0  \n",
       "3982    0    0   0       0    0      0     0  \n",
       "9998    0    0   0       0    0      0     0  \n",
       "897     0    0   0       0    0      0     0  \n",
       "\n",
       "[8 rows x 12919 columns]"
      ]
     },
     "execution_count": 5,
     "metadata": {},
     "output_type": "execute_result"
    }
   ],
   "source": [
    "X = vectorizer.fit_transform(df_master['content'])\n",
    "wordLabels = vectorizer.get_feature_names()\n",
    "\n",
    "pd.DataFrame(data=X.toarray(), columns=wordLabels).sample(8)"
   ]
  },
  {
   "cell_type": "code",
   "execution_count": 11,
   "metadata": {},
   "outputs": [],
   "source": [
    "df_master['im:rating'] = df_master['im:rating'].astype(int)"
   ]
  },
  {
   "cell_type": "code",
   "execution_count": 21,
   "metadata": {},
   "outputs": [],
   "source": [
    "COMPRESSED_SIZE = 6000\n",
    "#   Compressed_size =  200 --> R-squared of 0.303\n",
    "#   Compressed_size =  500 --> R-squared of 0.380\n",
    "#   Compressed_size = 1500 --> R-squared of 0.480\n",
    "#   Compressed_size = 3000 --> R-squared of 0.582\n",
    "#   Compressed_size = 6000 --> R-squared of 0.777\n",
    "\n",
    "Xd = X.toarray()\n",
    "Xd = PCA(COMPRESSED_SIZE).fit(Xd.T).components_.T\n",
    "Xd = sm.add_constant(Xd)"
   ]
  },
  {
   "cell_type": "code",
   "execution_count": 22,
   "metadata": {},
   "outputs": [
    {
     "name": "stdout",
     "output_type": "stream",
     "text": [
      "OLS R^2:  0.7774029188221921\n"
     ]
    }
   ],
   "source": [
    "pred = Xd @ sc.linalg.inv(Xd.T @ Xd) @ Xd.T @ df_master['im:rating'].values\n",
    "print(\"OLS R^2: \", r2_score(df_master['im:rating'], pred))"
   ]
  },
  {
   "cell_type": "code",
   "execution_count": 24,
   "metadata": {},
   "outputs": [
    {
     "data": {
      "image/png": "[encoded data removed]",
      "text/plain": [
       "<Figure size 432x288 with 1 Axes>"
      ]
     },
     "metadata": {},
     "output_type": "display_data"
    }
   ],
   "source": [
    "sns.set()\n",
    "plt.plot([200,500,1500,3000,6000],[0.303, 0.380, 0.480, 0.582,0.777])\n",
    "plt.title('Summary of Results for BOW')\n",
    "plt.xlabel('Compressed_size')\n",
    "plt.ylabel('OLS R-squared');"
   ]
  },
  {
   "cell_type": "markdown",
   "metadata": {},
   "source": [
    "### TF-IDF"
   ]
  },
  {
   "cell_type": "code",
   "execution_count": 26,
   "metadata": {},
   "outputs": [],
   "source": [
    "import sklearn.feature_extraction.text as text"
   ]
  },
  {
   "cell_type": "code",
   "execution_count": 38,
   "metadata": {},
   "outputs": [],
   "source": [
    "COMPRESSED_SIZE = 6000\n",
    "#   Compressed_size =  200 --> R-squared of 0.473\n",
    "#   Compressed_size =  500 --> R-squared of 0.531\n",
    "#   Compressed_size = 1500 --> R-squared of 0.619\n",
    "#   Compressed_size = 3000 --> R-squared of 0.717\n",
    "#   Compressed_size = 6000 --> R-squared of 0.846\n",
    "\n",
    "tf = text.TfidfVectorizer()\n",
    "X = tf.fit_transform(df_master['content'])\n",
    "\n",
    "Xd = X.toarray()\n",
    "Xd = PCA(COMPRESSED_SIZE).fit(Xd.T).components_.T\n",
    "Xd = sm.add_constant(Xd)"
   ]
  },
  {
   "cell_type": "code",
   "execution_count": 39,
   "metadata": {},
   "outputs": [
    {
     "name": "stdout",
     "output_type": "stream",
     "text": [
      "OLS R^2:  0.8457341970886729\n"
     ]
    }
   ],
   "source": [
    "pred = Xd @ sc.linalg.inv(Xd.T @ Xd) @ Xd.T @ df_master['im:rating'].values\n",
    "print(\"OLS R^2: \", r2_score(df_master['im:rating'], pred))"
   ]
  },
  {
   "cell_type": "code",
   "execution_count": 41,
   "metadata": {},
   "outputs": [
    {
     "data": {
      "image/png": "[encoded data removed]",
      "text/plain": [
       "<Figure size 432x288 with 1 Axes>"
      ]
     },
     "metadata": {},
     "output_type": "display_data"
    }
   ],
   "source": [
    "sns.set()\n",
    "plt.plot([200,500,1500,3000,6000],[0.303, 0.380, 0.480, 0.582,0.777],label='Bow')\n",
    "plt.plot([200,500,1500,3000,6000],[0.473, 0.531, 0.619, 0.717,0.846],label='TF-IDF')\n",
    "plt.title('Summary of Results')\n",
    "plt.xlabel('Compressed_size')\n",
    "plt.ylabel('OLS R-squared')\n",
    "plt.legend();"
   ]
  },
  {
   "cell_type": "markdown",
   "metadata": {},
   "source": [
    "# Question 1.2 Now use a sentence embedding using on of the gensim pre-trained word embedding models to achieve the same in clustering. Get the best classification accuracy score you can on the 5-star review scale targer using all unsupervised methods you want."
   ]
  },
  {
   "cell_type": "markdown",
   "metadata": {},
   "source": [
    "   ### Following the course notes, let's import the word vectors"
   ]
  },
  {
   "cell_type": "code",
   "execution_count": 197,
   "metadata": {},
   "outputs": [
    {
     "data": {
      "text/plain": [
       "{'corpora': ['semeval-2016-2017-task3-subtaskBC',\n",
       "  'semeval-2016-2017-task3-subtaskA-unannotated',\n",
       "  'patent-2017',\n",
       "  'quora-duplicate-questions',\n",
       "  'wiki-english-20171001',\n",
       "  'text8',\n",
       "  'fake-news',\n",
       "  '20-newsgroups',\n",
       "  '__testing_matrix-synopsis',\n",
       "  '__testing_multipart-matrix-synopsis'],\n",
       " 'models': ['fasttext-wiki-news-subwords-300',\n",
       "  'conceptnet-numberbatch-17-06-300',\n",
       "  'word2vec-ruscorpora-300',\n",
       "  'word2vec-google-news-300',\n",
       "  'glove-wiki-gigaword-50',\n",
       "  'glove-wiki-gigaword-100',\n",
       "  'glove-wiki-gigaword-200',\n",
       "  'glove-wiki-gigaword-300',\n",
       "  'glove-twitter-25',\n",
       "  'glove-twitter-50',\n",
       "  'glove-twitter-100',\n",
       "  'glove-twitter-200',\n",
       "  '__testing_word2vec-matrix-synopsis']}"
      ]
     },
     "execution_count": 197,
     "metadata": {},
     "output_type": "execute_result"
    }
   ],
   "source": [
    "model_api.info(name_only=True)"
   ]
  },
  {
   "cell_type": "code",
   "execution_count": 233,
   "metadata": {},
   "outputs": [
    {
     "name": "stdout",
     "output_type": "stream",
     "text": [
      "[==================================================] 100.0% 387.1/387.1MB downloaded\n"
     ]
    }
   ],
   "source": [
    "#word_vectors = model_api.load(\"glove-wiki-gigaword-50\")\n",
    "word_vectors = model_api.load(\"glove-twitter-100\")"
   ]
  },
  {
   "cell_type": "markdown",
   "metadata": {},
   "source": [
    "### Create the split-word dataframe from our 'content' column"
   ]
  },
  {
   "cell_type": "code",
   "execution_count": 234,
   "metadata": {},
   "outputs": [],
   "source": [
    "import re\n",
    "\n",
    "replaceDict = dict({\n",
    "'{':\" \", '}':\" \", ',':\"\", '.':\" \", '!':\" \", '\\\\':\" \", '/':\" \", '$':\" \", '%':\" \",\n",
    "'^':\" \", '?':\" \", '\\'':\" \", '\"':\" \", '(':\" \", ')':\" \", '*':\" \", '+':\" \", '-':\" \",\n",
    "'=':\" \", ':':\" \", ';':\" \", ']':\" \", '[':\" \", '`':\" \", '~':\" \",\n",
    "})\n",
    "\n",
    "rep = dict((re.escape(k), v) for k, v in replaceDict.items())\n",
    "pattern = re.compile(\"|\".join(rep.keys()))\n",
    "def replacer(text):\n",
    "    return rep[re.escape(text.group(0))]\n",
    "\n",
    "words = df_master.content.str.replace(pattern, replacer).str.lower().str.split()\n",
    "words = pd.DataFrame(words.tolist())"
   ]
  },
  {
   "cell_type": "code",
   "execution_count": 235,
   "metadata": {},
   "outputs": [
    {
     "data": {
      "text/html": [
       "<div>\n",
       "<style scoped>\n",
       "    .dataframe tbody tr th:only-of-type {\n",
       "        vertical-align: middle;\n",
       "    }\n",
       "\n",
       "    .dataframe tbody tr th {\n",
       "        vertical-align: top;\n",
       "    }\n",
       "\n",
       "    .dataframe thead th {\n",
       "        text-align: right;\n",
       "    }\n",
       "</style>\n",
       "<table border=\"1\" class=\"dataframe\">\n",
       "  <thead>\n",
       "    <tr style=\"text-align: right;\">\n",
       "      <th></th>\n",
       "      <th>0</th>\n",
       "      <th>1</th>\n",
       "      <th>2</th>\n",
       "      <th>3</th>\n",
       "      <th>4</th>\n",
       "      <th>5</th>\n",
       "      <th>6</th>\n",
       "      <th>7</th>\n",
       "      <th>8</th>\n",
       "      <th>9</th>\n",
       "      <th>...</th>\n",
       "      <th>623</th>\n",
       "      <th>624</th>\n",
       "      <th>625</th>\n",
       "      <th>626</th>\n",
       "      <th>627</th>\n",
       "      <th>628</th>\n",
       "      <th>629</th>\n",
       "      <th>630</th>\n",
       "      <th>631</th>\n",
       "      <th>632</th>\n",
       "    </tr>\n",
       "  </thead>\n",
       "  <tbody>\n",
       "    <tr>\n",
       "      <th>0</th>\n",
       "      <td>y</td>\n",
       "      <td>muy</td>\n",
       "      <td>dulce</td>\n",
       "      <td>None</td>\n",
       "      <td>None</td>\n",
       "      <td>None</td>\n",
       "      <td>None</td>\n",
       "      <td>None</td>\n",
       "      <td>None</td>\n",
       "      <td>None</td>\n",
       "      <td>...</td>\n",
       "      <td>None</td>\n",
       "      <td>None</td>\n",
       "      <td>None</td>\n",
       "      <td>None</td>\n",
       "      <td>None</td>\n",
       "      <td>None</td>\n",
       "      <td>None</td>\n",
       "      <td>None</td>\n",
       "      <td>None</td>\n",
       "      <td>None</td>\n",
       "    </tr>\n",
       "    <tr>\n",
       "      <th>1</th>\n",
       "      <td>i’ve</td>\n",
       "      <td>been</td>\n",
       "      <td>playing</td>\n",
       "      <td>for</td>\n",
       "      <td>years</td>\n",
       "      <td>not</td>\n",
       "      <td>only</td>\n",
       "      <td>have</td>\n",
       "      <td>i</td>\n",
       "      <td>never</td>\n",
       "      <td>...</td>\n",
       "      <td>None</td>\n",
       "      <td>None</td>\n",
       "      <td>None</td>\n",
       "      <td>None</td>\n",
       "      <td>None</td>\n",
       "      <td>None</td>\n",
       "      <td>None</td>\n",
       "      <td>None</td>\n",
       "      <td>None</td>\n",
       "      <td>None</td>\n",
       "    </tr>\n",
       "    <tr>\n",
       "      <th>2</th>\n",
       "      <td>can’t</td>\n",
       "      <td>get</td>\n",
       "      <td>game</td>\n",
       "      <td>to</td>\n",
       "      <td>load</td>\n",
       "      <td>someone</td>\n",
       "      <td>help</td>\n",
       "      <td>None</td>\n",
       "      <td>None</td>\n",
       "      <td>None</td>\n",
       "      <td>...</td>\n",
       "      <td>None</td>\n",
       "      <td>None</td>\n",
       "      <td>None</td>\n",
       "      <td>None</td>\n",
       "      <td>None</td>\n",
       "      <td>None</td>\n",
       "      <td>None</td>\n",
       "      <td>None</td>\n",
       "      <td>None</td>\n",
       "      <td>None</td>\n",
       "    </tr>\n",
       "  </tbody>\n",
       "</table>\n",
       "<p>3 rows × 633 columns</p>\n",
       "</div>"
      ],
      "text/plain": [
       "     0     1        2     3      4        5     6     7     8      9    ...  \\\n",
       "0      y   muy    dulce  None   None     None  None  None  None   None  ...   \n",
       "1   i’ve  been  playing   for  years      not  only  have     i  never  ...   \n",
       "2  can’t   get     game    to   load  someone  help  None  None   None  ...   \n",
       "\n",
       "    623   624   625   626   627   628   629   630   631   632  \n",
       "0  None  None  None  None  None  None  None  None  None  None  \n",
       "1  None  None  None  None  None  None  None  None  None  None  \n",
       "2  None  None  None  None  None  None  None  None  None  None  \n",
       "\n",
       "[3 rows x 633 columns]"
      ]
     },
     "execution_count": 235,
     "metadata": {},
     "output_type": "execute_result"
    }
   ],
   "source": [
    "words.head(3)"
   ]
  },
  {
   "cell_type": "code",
   "execution_count": 236,
   "metadata": {},
   "outputs": [
    {
     "data": {
      "text/html": [
       "<div>\n",
       "<style scoped>\n",
       "    .dataframe tbody tr th:only-of-type {\n",
       "        vertical-align: middle;\n",
       "    }\n",
       "\n",
       "    .dataframe tbody tr th {\n",
       "        vertical-align: top;\n",
       "    }\n",
       "\n",
       "    .dataframe thead th {\n",
       "        text-align: right;\n",
       "    }\n",
       "</style>\n",
       "<table border=\"1\" class=\"dataframe\">\n",
       "  <thead>\n",
       "    <tr style=\"text-align: right;\">\n",
       "      <th></th>\n",
       "      <th>0</th>\n",
       "      <th>1</th>\n",
       "      <th>2</th>\n",
       "      <th>3</th>\n",
       "      <th>4</th>\n",
       "      <th>5</th>\n",
       "      <th>6</th>\n",
       "      <th>7</th>\n",
       "      <th>8</th>\n",
       "      <th>9</th>\n",
       "      <th>...</th>\n",
       "      <th>90</th>\n",
       "      <th>91</th>\n",
       "      <th>92</th>\n",
       "      <th>93</th>\n",
       "      <th>94</th>\n",
       "      <th>95</th>\n",
       "      <th>96</th>\n",
       "      <th>97</th>\n",
       "      <th>98</th>\n",
       "      <th>99</th>\n",
       "    </tr>\n",
       "  </thead>\n",
       "  <tbody>\n",
       "    <tr>\n",
       "      <th>0</th>\n",
       "      <td>-1.481687</td>\n",
       "      <td>0.235146</td>\n",
       "      <td>-0.429474</td>\n",
       "      <td>-1.139827</td>\n",
       "      <td>0.085650</td>\n",
       "      <td>0.386470</td>\n",
       "      <td>0.146140</td>\n",
       "      <td>-0.248890</td>\n",
       "      <td>0.157715</td>\n",
       "      <td>-0.138871</td>\n",
       "      <td>...</td>\n",
       "      <td>0.362364</td>\n",
       "      <td>-0.406064</td>\n",
       "      <td>1.229400</td>\n",
       "      <td>2.576010</td>\n",
       "      <td>-0.251729</td>\n",
       "      <td>0.922290</td>\n",
       "      <td>-1.062815</td>\n",
       "      <td>-1.309550</td>\n",
       "      <td>-1.545526</td>\n",
       "      <td>-0.735070</td>\n",
       "    </tr>\n",
       "    <tr>\n",
       "      <th>1</th>\n",
       "      <td>-1.472753</td>\n",
       "      <td>5.908627</td>\n",
       "      <td>7.110304</td>\n",
       "      <td>3.651183</td>\n",
       "      <td>-5.209724</td>\n",
       "      <td>5.575743</td>\n",
       "      <td>3.855471</td>\n",
       "      <td>0.872604</td>\n",
       "      <td>1.776759</td>\n",
       "      <td>-3.516171</td>\n",
       "      <td>...</td>\n",
       "      <td>-1.705603</td>\n",
       "      <td>3.849659</td>\n",
       "      <td>-0.407718</td>\n",
       "      <td>-1.076752</td>\n",
       "      <td>-5.273182</td>\n",
       "      <td>-3.794676</td>\n",
       "      <td>-3.085020</td>\n",
       "      <td>-3.194255</td>\n",
       "      <td>7.686192</td>\n",
       "      <td>0.897375</td>\n",
       "    </tr>\n",
       "    <tr>\n",
       "      <th>2</th>\n",
       "      <td>1.959890</td>\n",
       "      <td>2.387232</td>\n",
       "      <td>0.678190</td>\n",
       "      <td>-0.519988</td>\n",
       "      <td>0.602743</td>\n",
       "      <td>-0.165815</td>\n",
       "      <td>2.804163</td>\n",
       "      <td>0.537965</td>\n",
       "      <td>1.676630</td>\n",
       "      <td>1.305500</td>\n",
       "      <td>...</td>\n",
       "      <td>-2.489987</td>\n",
       "      <td>0.371549</td>\n",
       "      <td>-0.408825</td>\n",
       "      <td>0.540090</td>\n",
       "      <td>1.455781</td>\n",
       "      <td>-1.319027</td>\n",
       "      <td>-0.259136</td>\n",
       "      <td>-0.589350</td>\n",
       "      <td>0.453055</td>\n",
       "      <td>0.646575</td>\n",
       "    </tr>\n",
       "    <tr>\n",
       "      <th>3</th>\n",
       "      <td>1.904520</td>\n",
       "      <td>0.880153</td>\n",
       "      <td>0.916477</td>\n",
       "      <td>-3.013660</td>\n",
       "      <td>1.245429</td>\n",
       "      <td>3.730315</td>\n",
       "      <td>1.842614</td>\n",
       "      <td>0.287908</td>\n",
       "      <td>-0.882696</td>\n",
       "      <td>0.136028</td>\n",
       "      <td>...</td>\n",
       "      <td>-2.293519</td>\n",
       "      <td>0.493918</td>\n",
       "      <td>-3.247869</td>\n",
       "      <td>-1.014032</td>\n",
       "      <td>2.209543</td>\n",
       "      <td>0.670044</td>\n",
       "      <td>0.767227</td>\n",
       "      <td>0.505266</td>\n",
       "      <td>-1.219353</td>\n",
       "      <td>-1.142193</td>\n",
       "    </tr>\n",
       "    <tr>\n",
       "      <th>4</th>\n",
       "      <td>4.313720</td>\n",
       "      <td>5.460218</td>\n",
       "      <td>2.992490</td>\n",
       "      <td>1.103080</td>\n",
       "      <td>-3.403285</td>\n",
       "      <td>9.030437</td>\n",
       "      <td>9.022041</td>\n",
       "      <td>-3.559283</td>\n",
       "      <td>4.872637</td>\n",
       "      <td>2.807665</td>\n",
       "      <td>...</td>\n",
       "      <td>-6.056370</td>\n",
       "      <td>1.324138</td>\n",
       "      <td>0.853339</td>\n",
       "      <td>-1.500276</td>\n",
       "      <td>-2.716699</td>\n",
       "      <td>-3.549805</td>\n",
       "      <td>-0.355281</td>\n",
       "      <td>-3.697781</td>\n",
       "      <td>6.511583</td>\n",
       "      <td>1.738170</td>\n",
       "    </tr>\n",
       "  </tbody>\n",
       "</table>\n",
       "<p>5 rows × 100 columns</p>\n",
       "</div>"
      ],
      "text/plain": [
       "         0         1         2         3         4         5         6   \\\n",
       "0 -1.481687  0.235146 -0.429474 -1.139827  0.085650  0.386470  0.146140   \n",
       "1 -1.472753  5.908627  7.110304  3.651183 -5.209724  5.575743  3.855471   \n",
       "2  1.959890  2.387232  0.678190 -0.519988  0.602743 -0.165815  2.804163   \n",
       "3  1.904520  0.880153  0.916477 -3.013660  1.245429  3.730315  1.842614   \n",
       "4  4.313720  5.460218  2.992490  1.103080 -3.403285  9.030437  9.022041   \n",
       "\n",
       "         7         8         9   ...        90        91        92        93  \\\n",
       "0 -0.248890  0.157715 -0.138871  ...  0.362364 -0.406064  1.229400  2.576010   \n",
       "1  0.872604  1.776759 -3.516171  ... -1.705603  3.849659 -0.407718 -1.076752   \n",
       "2  0.537965  1.676630  1.305500  ... -2.489987  0.371549 -0.408825  0.540090   \n",
       "3  0.287908 -0.882696  0.136028  ... -2.293519  0.493918 -3.247869 -1.014032   \n",
       "4 -3.559283  4.872637  2.807665  ... -6.056370  1.324138  0.853339 -1.500276   \n",
       "\n",
       "         94        95        96        97        98        99  \n",
       "0 -0.251729  0.922290 -1.062815 -1.309550 -1.545526 -0.735070  \n",
       "1 -5.273182 -3.794676 -3.085020 -3.194255  7.686192  0.897375  \n",
       "2  1.455781 -1.319027 -0.259136 -0.589350  0.453055  0.646575  \n",
       "3  2.209543  0.670044  0.767227  0.505266 -1.219353 -1.142193  \n",
       "4 -2.716699 -3.549805 -0.355281 -3.697781  6.511583  1.738170  \n",
       "\n",
       "[5 rows x 100 columns]"
      ]
     },
     "execution_count": 236,
     "metadata": {},
     "output_type": "execute_result"
    }
   ],
   "source": [
    "def soft_get(w):\n",
    "#    print(f\"\\tword: {w}\")\n",
    "    try:\n",
    "        return word_vectors[w]\n",
    "    except KeyError:\n",
    "        return np.zeros(word_vectors.vector_size)\n",
    "def map_vectors(row):\n",
    "#    print(row)\n",
    "    if np.sum(row.notna()) == 0:\n",
    "        return np.zeros(word_vectors.vector_size)\n",
    "    try:\n",
    "        return np.sum(\n",
    "            row.loc[row.notna()].apply(soft_get)\n",
    "        )\n",
    "    except:\n",
    "        return np.zeros(word_vectors.vector_size)\n",
    "emb = pd.DataFrame(words.apply(map_vectors, axis=1).tolist())\n",
    "emb.head()"
   ]
  },
  {
   "cell_type": "code",
   "execution_count": 246,
   "metadata": {},
   "outputs": [
    {
     "name": "stdout",
     "output_type": "stream",
     "text": [
      "OLS R^2:  0.26569811722582637\n"
     ]
    }
   ],
   "source": [
    "Xd = emb.to_numpy()\n",
    "#Xd = PCA(25).fit(Xd.T).components_.T\n",
    "Xd = sm.add_constant(Xd)\n",
    "pred = Xd @ sc.linalg.inv(Xd.T @ Xd) @ Xd.T @ df_master['im:rating'].values\n",
    "print(\"OLS R^2: \", r2_score(df_master['im:rating'], pred))"
   ]
  },
  {
   "cell_type": "code",
   "execution_count": 248,
   "metadata": {},
   "outputs": [
    {
     "data": {
      "text/plain": [
       "0.24426605594439887"
      ]
     },
     "execution_count": 248,
     "metadata": {},
     "output_type": "execute_result"
    }
   ],
   "source": [
    "sgdr = SGDRegressor(loss='epsilon_insensitive',verbose=0,learning_rate='adaptive')\n",
    "#'epsilon_insensitive', or 'squared_epsilon_insensitive'\n",
    "sgdr.fit(emb, df_master['im:rating'])\n",
    "sgdr.score(emb, df_master['im:rating'])"
   ]
  },
  {
   "cell_type": "markdown",
   "metadata": {},
   "source": [
    "# Question 1.3 Using any method you want (pre-trained models, dimensionality reduction, feature engineering, etc.) make the best regression model you can to predict the 5 star rating. Rate the accuracy in regression terms (mean squared error) and in classification terms (accuracy score, etc.)"
   ]
  },
  {
   "cell_type": "code",
   "execution_count": 249,
   "metadata": {},
   "outputs": [],
   "source": [
    "vectorizer = CountVectorizer()\n",
    "X = vectorizer.fit_transform(df_master['content'])\n",
    "wordLabels = vectorizer.get_feature_names()\n",
    "COMPRESSED_SIZE = 6000\n",
    "tf = text.TfidfVectorizer()\n",
    "X = tf.fit_transform(df_master['content'])\n",
    "Xd = X.toarray()\n",
    "Xd = PCA(COMPRESSED_SIZE).fit(Xd.T).components_.T\n",
    "Xd = sm.add_constant(Xd)"
   ]
  },
  {
   "cell_type": "code",
   "execution_count": 250,
   "metadata": {},
   "outputs": [
    {
     "name": "stdout",
     "output_type": "stream",
     "text": [
      "OLS R^2:  0.8451838958691753\n"
     ]
    }
   ],
   "source": [
    "pred = Xd @ sc.linalg.inv(Xd.T @ Xd) @ Xd.T @ df_master['im:rating'].values\n",
    "print(\"OLS R^2: \", r2_score(df_master['im:rating'], pred))"
   ]
  },
  {
   "cell_type": "code",
   "execution_count": 251,
   "metadata": {},
   "outputs": [],
   "source": [
    "from sklearn.metrics import confusion_matrix, plot_confusion_matrix, classification_report"
   ]
  },
  {
   "cell_type": "code",
   "execution_count": 255,
   "metadata": {},
   "outputs": [
    {
     "data": {
      "text/plain": [
       "array([[   0,    0,    0,    0,    0,    0,    0,    0,    0],\n",
       "       [   0,    0,    0,    0,    0,    0,    0,    0,    0],\n",
       "       [   3,  362, 4213, 1195,  127,    9,    1,    0,    0],\n",
       "       [   0,    1,  146,  605,  100,    5,    1,    0,    0],\n",
       "       [   0,    0,   18,  179,  411,   42,    6,    0,    0],\n",
       "       [   0,    0,    5,   42,  142,  294,   59,    4,    0],\n",
       "       [   0,    0,    1,   23,  170,  444, 1327,   62,    3],\n",
       "       [   0,    0,    0,    0,    0,    0,    0,    0,    0],\n",
       "       [   0,    0,    0,    0,    0,    0,    0,    0,    0]],\n",
       "      dtype=int64)"
      ]
     },
     "execution_count": 255,
     "metadata": {},
     "output_type": "execute_result"
    }
   ],
   "source": [
    "confusion_matrix(df_master['im:rating'],np.round(pred))"
   ]
  },
  {
   "cell_type": "code",
   "execution_count": 257,
   "metadata": {},
   "outputs": [
    {
     "name": "stdout",
     "output_type": "stream",
     "text": [
      "              precision    recall  f1-score   support\n",
      "\n",
      "        -1.0       0.00      0.00      0.00         0\n",
      "         0.0       0.00      0.00      0.00         0\n",
      "         1.0       0.96      0.71      0.82      5910\n",
      "         2.0       0.30      0.71      0.42       858\n",
      "         3.0       0.43      0.63      0.51       656\n",
      "         4.0       0.37      0.54      0.44       546\n",
      "         5.0       0.95      0.65      0.78      2030\n",
      "         6.0       0.00      0.00      0.00         0\n",
      "         7.0       0.00      0.00      0.00         0\n",
      "\n",
      "    accuracy                           0.69     10000\n",
      "   macro avg       0.33      0.36      0.33     10000\n",
      "weighted avg       0.84      0.69      0.73     10000\n",
      "\n"
     ]
    },
    {
     "name": "stderr",
     "output_type": "stream",
     "text": [
      "D:\\Users\\Pinhead\\anaconda3\\lib\\site-packages\\sklearn\\metrics\\_classification.py:1221: UndefinedMetricWarning: Recall and F-score are ill-defined and being set to 0.0 in labels with no true samples. Use `zero_division` parameter to control this behavior.\n",
      "  _warn_prf(average, modifier, msg_start, len(result))\n"
     ]
    }
   ],
   "source": [
    "print(classification_report(df_master['im:rating'],np.round(pred)))"
   ]
  },
  {
   "cell_type": "markdown",
   "metadata": {},
   "source": [
    "## 2. Face data\n",
    "\n",
    "Here let's apply manifold learning on some face data.\n",
    "\n",
    "Use the following code:\n",
    "\n",
    "```\n",
    "from sklearn.datasets import fetch_lfw_people\n",
    "faces = fetch_lfw_people(min_faces_per_person=30)\n",
    "```\n",
    "\n",
    "To get the `faces` dataset.\n",
    "\n",
    "Use dimensionality reduction so that the darkness of the image is sorted in the first dimension as seen in this picture:\n",
    "\n",
    "![](isofaces.png)\n",
    "\n",
    "Then produce a picture similar to this one with your result"
   ]
  },
  {
   "cell_type": "code",
   "execution_count": null,
   "metadata": {},
   "outputs": [],
   "source": []
  },
  {
   "cell_type": "code",
   "execution_count": null,
   "metadata": {},
   "outputs": [],
   "source": []
  }
 ],
 "metadata": {
  "anaconda-cloud": {},
  "kernelspec": {
   "display_name": "Python 3",
   "language": "python",
   "name": "python3"
  },
  "language_info": {
   "codemirror_mode": {
    "name": "ipython",
    "version": 3
   },
   "file_extension": ".py",
   "mimetype": "text/x-python",
   "name": "python",
   "nbconvert_exporter": "python",
   "pygments_lexer": "ipython3",
   "version": "3.8.5"
  }
 },
 "nbformat": 4,
 "nbformat_minor": 1
}
